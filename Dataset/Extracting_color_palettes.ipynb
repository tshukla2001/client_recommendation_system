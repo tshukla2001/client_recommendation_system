{
 "cells": [
  {
   "cell_type": "code",
   "execution_count": 3,
   "id": "302b4120-8970-44e3-95f5-f0af90bbaa2f",
   "metadata": {},
   "outputs": [
    {
     "name": "stdout",
     "output_type": "stream",
     "text": [
      "Synthetic color palette dataset saved as color_palettes_dataset.csv.\n"
     ]
    }
   ],
   "source": [
    "import pandas as pd\n",
    "import random\n",
    "\n",
    "def random_color():\n",
    "    return \"#{:06x}\".format(random.randint(0, 0xFFFFFF))\n",
    "\n",
    "data = []\n",
    "for _ in range(100):\n",
    "    palette = [random_color() for _ in range(5)]  \n",
    "    data.append({\n",
    "        \"palette_name\": f\"Palette_{_+1}\",\n",
    "        \"colors\": \",\".join(palette)\n",
    "    })\n",
    "\n",
    "color_palettes_df = pd.DataFrame(data)\n",
    "color_palettes_df.to_csv(\"./color_palettes_dataset.csv\", index=False)\n",
    "print(\"Synthetic color palette dataset saved as color_palettes_dataset.csv.\")"
   ]
  },
  {
   "cell_type": "code",
   "execution_count": null,
   "id": "66d396df-3253-44ec-a381-1a1f812437b4",
   "metadata": {},
   "outputs": [],
   "source": []
  }
 ],
 "metadata": {
  "kernelspec": {
   "display_name": "Python 3 (ipykernel)",
   "language": "python",
   "name": "python3"
  },
  "language_info": {
   "codemirror_mode": {
    "name": "ipython",
    "version": 3
   },
   "file_extension": ".py",
   "mimetype": "text/x-python",
   "name": "python",
   "nbconvert_exporter": "python",
   "pygments_lexer": "ipython3",
   "version": "3.11.5"
  }
 },
 "nbformat": 4,
 "nbformat_minor": 5
}
